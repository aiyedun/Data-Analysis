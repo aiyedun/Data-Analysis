{
 "cells": [
  {
   "cell_type": "markdown",
   "id": "9132c367-c59c-46a5-a2fd-18b1f4126d38",
   "metadata": {},
   "source": [
    "## Web Scrapping\n",
    "# Data Generation from web"
   ]
  },
  {
   "cell_type": "code",
   "execution_count": 2,
   "id": "c3a0c3f1-78b0-4a14-ae58-f9d3a63cc14f",
   "metadata": {},
   "outputs": [],
   "source": [
    "#importing libraries\n",
    "from selenium import webdriver\n",
    "from bs4 import BeautifulSoup\n",
    "import pandas as pd\n",
    "import requests"
   ]
  },
  {
   "cell_type": "code",
   "execution_count": 3,
   "id": "d76324b2-0e39-4cf8-b081-b3286795f7ed",
   "metadata": {},
   "outputs": [],
   "source": [
    "url = 'url'\n",
    "page = requests.get(url)\n",
    "soup = BeautifulSoup(page.text, 'html')"
   ]
  },
  {
   "cell_type": "code",
   "execution_count": 4,
   "id": "ee5a4f75-7b41-4a1b-bbf6-30f8d893e04b",
   "metadata": {},
   "outputs": [
    {
     "name": "stdout",
     "output_type": "stream",
     "text": [
      "<html>\n",
      "<head>\n",
      "<title>Welcome to the comments assignment from www.py4e.com</title>\n",
      "</head>\n",
      "<body>\n",
      "<h1>This file contains the sample data for testing</h1>\n",
      "<table border=\"2\">\n",
      "<tr>\n",
      "<td>Name</td><td>Comments</td>\n",
      "</tr>\n",
      "<tr><td>Romina</td><td><span class=\"comments\">97</span></td></tr>\n",
      "<tr><td>Laurie</td><td><span class=\"comments\">97</span></td></tr>\n",
      "<tr><td>Bayli</td><td><span class=\"comments\">90</span></td></tr>\n",
      "<tr><td>Siyona</td><td><span class=\"comments\">90</span></td></tr>\n",
      "<tr><td>Taisha</td><td><span class=\"comments\">88</span></td></tr>\n",
      "<tr><td>Alanda</td><td><span class=\"comments\">87</span></td></tr>\n",
      "<tr><td>Ameelia</td><td><span class=\"comments\">87</span></td></tr>\n",
      "<tr><td>Prasheeta</td><td><span class=\"comments\">80</span></td></tr>\n",
      "<tr><td>Asif</td><td><span class=\"comments\">79</span></td></tr>\n",
      "<tr><td>Risa</td><td><span class=\"comments\">79</span></td></tr>\n",
      "<tr><td>Zi</td><td><span class=\"comments\">78</span></td></tr>\n",
      "<tr><td>Danyil</td><td><span class=\"comments\">76</span></td></tr>\n",
      "<tr><td>Ediomi</td><td><span class=\"comments\">76</span></td></tr>\n",
      "<tr><td>Barry</td><td><span class=\"comments\">72</span></td></tr>\n",
      "<tr><td>Lance</td><td><span class=\"comments\">72</span></td></tr>\n",
      "<tr><td>Hattie</td><td><span class=\"comments\">66</span></td></tr>\n",
      "<tr><td>Mathu</td><td><span class=\"comments\">66</span></td></tr>\n",
      "<tr><td>Bowie</td><td><span class=\"comments\">65</span></td></tr>\n",
      "<tr><td>Samara</td><td><span class=\"comments\">65</span></td></tr>\n",
      "<tr><td>Uchenna</td><td><span class=\"comments\">64</span></td></tr>\n",
      "<tr><td>Shauni</td><td><span class=\"comments\">61</span></td></tr>\n",
      "<tr><td>Georgia</td><td><span class=\"comments\">61</span></td></tr>\n",
      "<tr><td>Rivan</td><td><span class=\"comments\">59</span></td></tr>\n",
      "<tr><td>Kenan</td><td><span class=\"comments\">58</span></td></tr>\n",
      "<tr><td>Hassan</td><td><span class=\"comments\">57</span></td></tr>\n",
      "<tr><td>Isma</td><td><span class=\"comments\">57</span></td></tr>\n",
      "<tr><td>Samanthalee</td><td><span class=\"comments\">54</span></td></tr>\n",
      "<tr><td>Alexa</td><td><span class=\"comments\">51</span></td></tr>\n",
      "<tr><td>Caine</td><td><span class=\"comments\">49</span></td></tr>\n",
      "<tr><td>Grady</td><td><span class=\"comments\">47</span></td></tr>\n",
      "<tr><td>Anne</td><td><span class=\"comments\">40</span></td></tr>\n",
      "<tr><td>Rihan</td><td><span class=\"comments\">38</span></td></tr>\n",
      "<tr><td>Alexei</td><td><span class=\"comments\">37</span></td></tr>\n",
      "<tr><td>Indie</td><td><span class=\"comments\">36</span></td></tr>\n",
      "<tr><td>Rhuairidh</td><td><span class=\"comments\">36</span></td></tr>\n",
      "<tr><td>Annoushka</td><td><span class=\"comments\">32</span></td></tr>\n",
      "<tr><td>Kenzi</td><td><span class=\"comments\">25</span></td></tr>\n",
      "<tr><td>Shahd</td><td><span class=\"comments\">24</span></td></tr>\n",
      "<tr><td>Irvine</td><td><span class=\"comments\">22</span></td></tr>\n",
      "<tr><td>Carys</td><td><span class=\"comments\">21</span></td></tr>\n",
      "<tr><td>Skye</td><td><span class=\"comments\">19</span></td></tr>\n",
      "<tr><td>Atiya</td><td><span class=\"comments\">18</span></td></tr>\n",
      "<tr><td>Rohan</td><td><span class=\"comments\">18</span></td></tr>\n",
      "<tr><td>Nuala</td><td><span class=\"comments\">14</span></td></tr>\n",
      "<tr><td>Maram</td><td><span class=\"comments\">12</span></td></tr>\n",
      "<tr><td>Carlo</td><td><span class=\"comments\">12</span></td></tr>\n",
      "<tr><td>Japleen</td><td><span class=\"comments\">9</span></td></tr>\n",
      "<tr><td>Breeanna</td><td><span class=\"comments\">7</span></td></tr>\n",
      "<tr><td>Zaaine</td><td><span class=\"comments\">3</span></td></tr>\n",
      "<tr><td>Inika</td><td><span class=\"comments\">2</span></td></tr>\n",
      "</table>\n",
      "</body>\n",
      "</html>\n",
      "\n"
     ]
    }
   ],
   "source": [
    "print(soup)"
   ]
  },
  {
   "cell_type": "code",
   "execution_count": 5,
   "id": "7910331b-e80f-4f01-96ae-1c51b1dd7d02",
   "metadata": {},
   "outputs": [
    {
     "name": "stdout",
     "output_type": "stream",
     "text": [
      "<table border=\"2\">\n",
      "<tr>\n",
      "<td>Name</td><td>Comments</td>\n",
      "</tr>\n",
      "<tr><td>Romina</td><td><span class=\"comments\">97</span></td></tr>\n",
      "<tr><td>Laurie</td><td><span class=\"comments\">97</span></td></tr>\n",
      "<tr><td>Bayli</td><td><span class=\"comments\">90</span></td></tr>\n",
      "<tr><td>Siyona</td><td><span class=\"comments\">90</span></td></tr>\n",
      "<tr><td>Taisha</td><td><span class=\"comments\">88</span></td></tr>\n",
      "<tr><td>Alanda</td><td><span class=\"comments\">87</span></td></tr>\n",
      "<tr><td>Ameelia</td><td><span class=\"comments\">87</span></td></tr>\n",
      "<tr><td>Prasheeta</td><td><span class=\"comments\">80</span></td></tr>\n",
      "<tr><td>Asif</td><td><span class=\"comments\">79</span></td></tr>\n",
      "<tr><td>Risa</td><td><span class=\"comments\">79</span></td></tr>\n",
      "<tr><td>Zi</td><td><span class=\"comments\">78</span></td></tr>\n",
      "<tr><td>Danyil</td><td><span class=\"comments\">76</span></td></tr>\n",
      "<tr><td>Ediomi</td><td><span class=\"comments\">76</span></td></tr>\n",
      "<tr><td>Barry</td><td><span class=\"comments\">72</span></td></tr>\n",
      "<tr><td>Lance</td><td><span class=\"comments\">72</span></td></tr>\n",
      "<tr><td>Hattie</td><td><span class=\"comments\">66</span></td></tr>\n",
      "<tr><td>Mathu</td><td><span class=\"comments\">66</span></td></tr>\n",
      "<tr><td>Bowie</td><td><span class=\"comments\">65</span></td></tr>\n",
      "<tr><td>Samara</td><td><span class=\"comments\">65</span></td></tr>\n",
      "<tr><td>Uchenna</td><td><span class=\"comments\">64</span></td></tr>\n",
      "<tr><td>Shauni</td><td><span class=\"comments\">61</span></td></tr>\n",
      "<tr><td>Georgia</td><td><span class=\"comments\">61</span></td></tr>\n",
      "<tr><td>Rivan</td><td><span class=\"comments\">59</span></td></tr>\n",
      "<tr><td>Kenan</td><td><span class=\"comments\">58</span></td></tr>\n",
      "<tr><td>Hassan</td><td><span class=\"comments\">57</span></td></tr>\n",
      "<tr><td>Isma</td><td><span class=\"comments\">57</span></td></tr>\n",
      "<tr><td>Samanthalee</td><td><span class=\"comments\">54</span></td></tr>\n",
      "<tr><td>Alexa</td><td><span class=\"comments\">51</span></td></tr>\n",
      "<tr><td>Caine</td><td><span class=\"comments\">49</span></td></tr>\n",
      "<tr><td>Grady</td><td><span class=\"comments\">47</span></td></tr>\n",
      "<tr><td>Anne</td><td><span class=\"comments\">40</span></td></tr>\n",
      "<tr><td>Rihan</td><td><span class=\"comments\">38</span></td></tr>\n",
      "<tr><td>Alexei</td><td><span class=\"comments\">37</span></td></tr>\n",
      "<tr><td>Indie</td><td><span class=\"comments\">36</span></td></tr>\n",
      "<tr><td>Rhuairidh</td><td><span class=\"comments\">36</span></td></tr>\n",
      "<tr><td>Annoushka</td><td><span class=\"comments\">32</span></td></tr>\n",
      "<tr><td>Kenzi</td><td><span class=\"comments\">25</span></td></tr>\n",
      "<tr><td>Shahd</td><td><span class=\"comments\">24</span></td></tr>\n",
      "<tr><td>Irvine</td><td><span class=\"comments\">22</span></td></tr>\n",
      "<tr><td>Carys</td><td><span class=\"comments\">21</span></td></tr>\n",
      "<tr><td>Skye</td><td><span class=\"comments\">19</span></td></tr>\n",
      "<tr><td>Atiya</td><td><span class=\"comments\">18</span></td></tr>\n",
      "<tr><td>Rohan</td><td><span class=\"comments\">18</span></td></tr>\n",
      "<tr><td>Nuala</td><td><span class=\"comments\">14</span></td></tr>\n",
      "<tr><td>Maram</td><td><span class=\"comments\">12</span></td></tr>\n",
      "<tr><td>Carlo</td><td><span class=\"comments\">12</span></td></tr>\n",
      "<tr><td>Japleen</td><td><span class=\"comments\">9</span></td></tr>\n",
      "<tr><td>Breeanna</td><td><span class=\"comments\">7</span></td></tr>\n",
      "<tr><td>Zaaine</td><td><span class=\"comments\">3</span></td></tr>\n",
      "<tr><td>Inika</td><td><span class=\"comments\">2</span></td></tr>\n",
      "</table>\n"
     ]
    }
   ],
   "source": [
    "# specify the data you need\n",
    "table = soup.find_all('table')[0] # the [x]: where x = the position of the table you want to scrape\n",
    "print(table)"
   ]
  },
  {
   "cell_type": "code",
   "execution_count": 7,
   "id": "be08e33f-ae31-4631-97a4-31046cfd9be6",
   "metadata": {},
   "outputs": [
    {
     "name": "stdout",
     "output_type": "stream",
     "text": [
      "[<td>Name</td>, <td>Comments</td>, <td>Romina</td>, <td><span class=\"comments\">97</span></td>, <td>Laurie</td>, <td><span class=\"comments\">97</span></td>, <td>Bayli</td>, <td><span class=\"comments\">90</span></td>, <td>Siyona</td>, <td><span class=\"comments\">90</span></td>, <td>Taisha</td>, <td><span class=\"comments\">88</span></td>, <td>Alanda</td>, <td><span class=\"comments\">87</span></td>, <td>Ameelia</td>, <td><span class=\"comments\">87</span></td>, <td>Prasheeta</td>, <td><span class=\"comments\">80</span></td>, <td>Asif</td>, <td><span class=\"comments\">79</span></td>, <td>Risa</td>, <td><span class=\"comments\">79</span></td>, <td>Zi</td>, <td><span class=\"comments\">78</span></td>, <td>Danyil</td>, <td><span class=\"comments\">76</span></td>, <td>Ediomi</td>, <td><span class=\"comments\">76</span></td>, <td>Barry</td>, <td><span class=\"comments\">72</span></td>, <td>Lance</td>, <td><span class=\"comments\">72</span></td>, <td>Hattie</td>, <td><span class=\"comments\">66</span></td>, <td>Mathu</td>, <td><span class=\"comments\">66</span></td>, <td>Bowie</td>, <td><span class=\"comments\">65</span></td>, <td>Samara</td>, <td><span class=\"comments\">65</span></td>, <td>Uchenna</td>, <td><span class=\"comments\">64</span></td>, <td>Shauni</td>, <td><span class=\"comments\">61</span></td>, <td>Georgia</td>, <td><span class=\"comments\">61</span></td>, <td>Rivan</td>, <td><span class=\"comments\">59</span></td>, <td>Kenan</td>, <td><span class=\"comments\">58</span></td>, <td>Hassan</td>, <td><span class=\"comments\">57</span></td>, <td>Isma</td>, <td><span class=\"comments\">57</span></td>, <td>Samanthalee</td>, <td><span class=\"comments\">54</span></td>, <td>Alexa</td>, <td><span class=\"comments\">51</span></td>, <td>Caine</td>, <td><span class=\"comments\">49</span></td>, <td>Grady</td>, <td><span class=\"comments\">47</span></td>, <td>Anne</td>, <td><span class=\"comments\">40</span></td>, <td>Rihan</td>, <td><span class=\"comments\">38</span></td>, <td>Alexei</td>, <td><span class=\"comments\">37</span></td>, <td>Indie</td>, <td><span class=\"comments\">36</span></td>, <td>Rhuairidh</td>, <td><span class=\"comments\">36</span></td>, <td>Annoushka</td>, <td><span class=\"comments\">32</span></td>, <td>Kenzi</td>, <td><span class=\"comments\">25</span></td>, <td>Shahd</td>, <td><span class=\"comments\">24</span></td>, <td>Irvine</td>, <td><span class=\"comments\">22</span></td>, <td>Carys</td>, <td><span class=\"comments\">21</span></td>, <td>Skye</td>, <td><span class=\"comments\">19</span></td>, <td>Atiya</td>, <td><span class=\"comments\">18</span></td>, <td>Rohan</td>, <td><span class=\"comments\">18</span></td>, <td>Nuala</td>, <td><span class=\"comments\">14</span></td>, <td>Maram</td>, <td><span class=\"comments\">12</span></td>, <td>Carlo</td>, <td><span class=\"comments\">12</span></td>, <td>Japleen</td>, <td><span class=\"comments\">9</span></td>, <td>Breeanna</td>, <td><span class=\"comments\">7</span></td>, <td>Zaaine</td>, <td><span class=\"comments\">3</span></td>, <td>Inika</td>, <td><span class=\"comments\">2</span></td>]\n"
     ]
    }
   ],
   "source": [
    "# picking out the titles\n",
    "titles = table.find_all('td')\n",
    "print(titles)"
   ]
  },
  {
   "cell_type": "code",
   "execution_count": 8,
   "id": "3aafd6ed-ea77-48bf-86d4-7e055d11055a",
   "metadata": {},
   "outputs": [
    {
     "name": "stdout",
     "output_type": "stream",
     "text": [
      "['Name', 'Comments', 'Romina', '97', 'Laurie', '97', 'Bayli', '90', 'Siyona', '90', 'Taisha', '88', 'Alanda', '87', 'Ameelia', '87', 'Prasheeta', '80', 'Asif', '79', 'Risa', '79', 'Zi', '78', 'Danyil', '76', 'Ediomi', '76', 'Barry', '72', 'Lance', '72', 'Hattie', '66', 'Mathu', '66', 'Bowie', '65', 'Samara', '65', 'Uchenna', '64', 'Shauni', '61', 'Georgia', '61', 'Rivan', '59', 'Kenan', '58', 'Hassan', '57', 'Isma', '57', 'Samanthalee', '54', 'Alexa', '51', 'Caine', '49', 'Grady', '47', 'Anne', '40', 'Rihan', '38', 'Alexei', '37', 'Indie', '36', 'Rhuairidh', '36', 'Annoushka', '32', 'Kenzi', '25', 'Shahd', '24', 'Irvine', '22', 'Carys', '21', 'Skye', '19', 'Atiya', '18', 'Rohan', '18', 'Nuala', '14', 'Maram', '12', 'Carlo', '12', 'Japleen', '9', 'Breeanna', '7', 'Zaaine', '3', 'Inika', '2']\n"
     ]
    }
   ],
   "source": [
    "# list comprehension\n",
    "table_titles1 = [title.text for title in titles]\n",
    "print(table_titles1)"
   ]
  },
  {
   "cell_type": "code",
   "execution_count": 9,
   "id": "f15b8eb4-37b1-4a91-a19f-0254c62991c6",
   "metadata": {},
   "outputs": [
    {
     "name": "stdout",
     "output_type": "stream",
     "text": [
      "['Name', 'Comments', 'Romina', '97', 'Laurie', '97', 'Bayli', '90', 'Siyona', '90', 'Taisha', '88', 'Alanda', '87', 'Ameelia', '87', 'Prasheeta', '80', 'Asif', '79', 'Risa', '79', 'Zi', '78', 'Danyil', '76', 'Ediomi', '76', 'Barry', '72', 'Lance', '72', 'Hattie', '66', 'Mathu', '66', 'Bowie', '65', 'Samara', '65', 'Uchenna', '64', 'Shauni', '61', 'Georgia', '61', 'Rivan', '59', 'Kenan', '58', 'Hassan', '57', 'Isma', '57', 'Samanthalee', '54', 'Alexa', '51', 'Caine', '49', 'Grady', '47', 'Anne', '40', 'Rihan', '38', 'Alexei', '37', 'Indie', '36', 'Rhuairidh', '36', 'Annoushka', '32', 'Kenzi', '25', 'Shahd', '24', 'Irvine', '22', 'Carys', '21', 'Skye', '19', 'Atiya', '18', 'Rohan', '18', 'Nuala', '14', 'Maram', '12', 'Carlo', '12', 'Japleen', '9', 'Breeanna', '7', 'Zaaine', '3', 'Inika', '2']\n",
      "['Name', 'Comments', 'Romina', '97', 'Laurie', '97']\n"
     ]
    }
   ],
   "source": [
    "table_titles1 = [title.text.strip() for title in titles]\n",
    "print(table_titles1)\n",
    "table_titles = table_titles1[:6]\n",
    "print(table_titles)"
   ]
  },
  {
   "cell_type": "code",
   "execution_count": 10,
   "id": "22f9c3a8-d184-45d6-9afa-0471c10a73e4",
   "metadata": {},
   "outputs": [
    {
     "data": {
      "text/html": [
       "<div>\n",
       "<style scoped>\n",
       "    .dataframe tbody tr th:only-of-type {\n",
       "        vertical-align: middle;\n",
       "    }\n",
       "\n",
       "    .dataframe tbody tr th {\n",
       "        vertical-align: top;\n",
       "    }\n",
       "\n",
       "    .dataframe thead th {\n",
       "        text-align: right;\n",
       "    }\n",
       "</style>\n",
       "<table border=\"1\" class=\"dataframe\">\n",
       "  <thead>\n",
       "    <tr style=\"text-align: right;\">\n",
       "      <th></th>\n",
       "      <th>Name</th>\n",
       "      <th>Comments</th>\n",
       "      <th>Romina</th>\n",
       "      <th>97</th>\n",
       "      <th>Laurie</th>\n",
       "      <th>97</th>\n",
       "    </tr>\n",
       "  </thead>\n",
       "  <tbody>\n",
       "  </tbody>\n",
       "</table>\n",
       "</div>"
      ],
      "text/plain": [
       "Empty DataFrame\n",
       "Columns: [Name, Comments, Romina, 97, Laurie, 97]\n",
       "Index: []"
      ]
     },
     "execution_count": 10,
     "metadata": {},
     "output_type": "execute_result"
    }
   ],
   "source": [
    "#creating a dataframe\n",
    "worldie = pd.DataFrame(columns = table_titles)\n",
    "worldie\n"
   ]
  },
  {
   "cell_type": "code",
   "execution_count": 11,
   "id": "c40793eb-368f-462c-96ef-83920211c733",
   "metadata": {},
   "outputs": [
    {
     "name": "stdout",
     "output_type": "stream",
     "text": [
      "['Name', 'Comments']\n",
      "['Romina', '97']\n",
      "['Laurie', '97']\n",
      "['Bayli', '90']\n",
      "['Siyona', '90']\n",
      "['Taisha', '88']\n",
      "['Alanda', '87']\n",
      "['Ameelia', '87']\n",
      "['Prasheeta', '80']\n",
      "['Asif', '79']\n",
      "['Risa', '79']\n",
      "['Zi', '78']\n",
      "['Danyil', '76']\n",
      "['Ediomi', '76']\n",
      "['Barry', '72']\n",
      "['Lance', '72']\n",
      "['Hattie', '66']\n",
      "['Mathu', '66']\n",
      "['Bowie', '65']\n",
      "['Samara', '65']\n",
      "['Uchenna', '64']\n",
      "['Shauni', '61']\n",
      "['Georgia', '61']\n",
      "['Rivan', '59']\n",
      "['Kenan', '58']\n",
      "['Hassan', '57']\n",
      "['Isma', '57']\n",
      "['Samanthalee', '54']\n",
      "['Alexa', '51']\n",
      "['Caine', '49']\n",
      "['Grady', '47']\n",
      "['Anne', '40']\n",
      "['Rihan', '38']\n",
      "['Alexei', '37']\n",
      "['Indie', '36']\n",
      "['Rhuairidh', '36']\n",
      "['Annoushka', '32']\n",
      "['Kenzi', '25']\n",
      "['Shahd', '24']\n",
      "['Irvine', '22']\n",
      "['Carys', '21']\n",
      "['Skye', '19']\n",
      "['Atiya', '18']\n",
      "['Rohan', '18']\n",
      "['Nuala', '14']\n",
      "['Maram', '12']\n",
      "['Carlo', '12']\n",
      "['Japleen', '9']\n",
      "['Breeanna', '7']\n",
      "['Zaaine', '3']\n",
      "['Inika', '2']\n"
     ]
    }
   ],
   "source": [
    "column_data = table.find_all('tr')\n",
    "for row in column_data:\n",
    "    row_data = row.find_all('td')\n",
    "    \n",
    "    # cleaning the data\n",
    "    clean_row = [data.text.strip() for data in row_data]\n",
    "    if len(clean_row) == False:\n",
    "        del[clean_row]\n",
    "    else:\n",
    "        print(clean_row)"
   ]
  },
  {
   "cell_type": "code",
   "execution_count": 12,
   "id": "42b3d679-3c2c-42ab-8c50-79d504ec7648",
   "metadata": {},
   "outputs": [
    {
     "ename": "ValueError",
     "evalue": "cannot set a row with mismatched columns",
     "output_type": "error",
     "traceback": [
      "\u001b[1;31m---------------------------------------------------------------------------\u001b[0m",
      "\u001b[1;31mValueError\u001b[0m                                Traceback (most recent call last)",
      "Cell \u001b[1;32mIn[12], line 9\u001b[0m\n\u001b[0;32m      6\u001b[0m clean_row \u001b[38;5;241m=\u001b[39m [data\u001b[38;5;241m.\u001b[39mtext\u001b[38;5;241m.\u001b[39mstrip() \u001b[38;5;28;01mfor\u001b[39;00m data \u001b[38;5;129;01min\u001b[39;00m row_data]\n\u001b[0;32m      8\u001b[0m length \u001b[38;5;241m=\u001b[39m \u001b[38;5;28mlen\u001b[39m(worldie)\n\u001b[1;32m----> 9\u001b[0m worldie\u001b[38;5;241m.\u001b[39mloc[length] \u001b[38;5;241m=\u001b[39m clean_row\n",
      "File \u001b[1;32m~\\anaconda3\\lib\\site-packages\\pandas\\core\\indexing.py:818\u001b[0m, in \u001b[0;36m_LocationIndexer.__setitem__\u001b[1;34m(self, key, value)\u001b[0m\n\u001b[0;32m    815\u001b[0m \u001b[38;5;28mself\u001b[39m\u001b[38;5;241m.\u001b[39m_has_valid_setitem_indexer(key)\n\u001b[0;32m    817\u001b[0m iloc \u001b[38;5;241m=\u001b[39m \u001b[38;5;28mself\u001b[39m \u001b[38;5;28;01mif\u001b[39;00m \u001b[38;5;28mself\u001b[39m\u001b[38;5;241m.\u001b[39mname \u001b[38;5;241m==\u001b[39m \u001b[38;5;124m\"\u001b[39m\u001b[38;5;124miloc\u001b[39m\u001b[38;5;124m\"\u001b[39m \u001b[38;5;28;01melse\u001b[39;00m \u001b[38;5;28mself\u001b[39m\u001b[38;5;241m.\u001b[39mobj\u001b[38;5;241m.\u001b[39miloc\n\u001b[1;32m--> 818\u001b[0m \u001b[43miloc\u001b[49m\u001b[38;5;241;43m.\u001b[39;49m\u001b[43m_setitem_with_indexer\u001b[49m\u001b[43m(\u001b[49m\u001b[43mindexer\u001b[49m\u001b[43m,\u001b[49m\u001b[43m \u001b[49m\u001b[43mvalue\u001b[49m\u001b[43m,\u001b[49m\u001b[43m \u001b[49m\u001b[38;5;28;43mself\u001b[39;49m\u001b[38;5;241;43m.\u001b[39;49m\u001b[43mname\u001b[49m\u001b[43m)\u001b[49m\n",
      "File \u001b[1;32m~\\anaconda3\\lib\\site-packages\\pandas\\core\\indexing.py:1785\u001b[0m, in \u001b[0;36m_iLocIndexer._setitem_with_indexer\u001b[1;34m(self, indexer, value, name)\u001b[0m\n\u001b[0;32m   1782\u001b[0m     indexer, missing \u001b[38;5;241m=\u001b[39m convert_missing_indexer(indexer)\n\u001b[0;32m   1784\u001b[0m     \u001b[38;5;28;01mif\u001b[39;00m missing:\n\u001b[1;32m-> 1785\u001b[0m         \u001b[38;5;28;43mself\u001b[39;49m\u001b[38;5;241;43m.\u001b[39;49m\u001b[43m_setitem_with_indexer_missing\u001b[49m\u001b[43m(\u001b[49m\u001b[43mindexer\u001b[49m\u001b[43m,\u001b[49m\u001b[43m \u001b[49m\u001b[43mvalue\u001b[49m\u001b[43m)\u001b[49m\n\u001b[0;32m   1786\u001b[0m         \u001b[38;5;28;01mreturn\u001b[39;00m\n\u001b[0;32m   1788\u001b[0m \u001b[38;5;28;01mif\u001b[39;00m name \u001b[38;5;241m==\u001b[39m \u001b[38;5;124m\"\u001b[39m\u001b[38;5;124mloc\u001b[39m\u001b[38;5;124m\"\u001b[39m:\n\u001b[0;32m   1789\u001b[0m     \u001b[38;5;66;03m# must come after setting of missing\u001b[39;00m\n",
      "File \u001b[1;32m~\\anaconda3\\lib\\site-packages\\pandas\\core\\indexing.py:2160\u001b[0m, in \u001b[0;36m_iLocIndexer._setitem_with_indexer_missing\u001b[1;34m(self, indexer, value)\u001b[0m\n\u001b[0;32m   2157\u001b[0m     \u001b[38;5;28;01mif\u001b[39;00m is_list_like_indexer(value):\n\u001b[0;32m   2158\u001b[0m         \u001b[38;5;66;03m# must have conforming columns\u001b[39;00m\n\u001b[0;32m   2159\u001b[0m         \u001b[38;5;28;01mif\u001b[39;00m \u001b[38;5;28mlen\u001b[39m(value) \u001b[38;5;241m!=\u001b[39m \u001b[38;5;28mlen\u001b[39m(\u001b[38;5;28mself\u001b[39m\u001b[38;5;241m.\u001b[39mobj\u001b[38;5;241m.\u001b[39mcolumns):\n\u001b[1;32m-> 2160\u001b[0m             \u001b[38;5;28;01mraise\u001b[39;00m \u001b[38;5;167;01mValueError\u001b[39;00m(\u001b[38;5;124m\"\u001b[39m\u001b[38;5;124mcannot set a row with mismatched columns\u001b[39m\u001b[38;5;124m\"\u001b[39m)\n\u001b[0;32m   2162\u001b[0m     value \u001b[38;5;241m=\u001b[39m Series(value, index\u001b[38;5;241m=\u001b[39m\u001b[38;5;28mself\u001b[39m\u001b[38;5;241m.\u001b[39mobj\u001b[38;5;241m.\u001b[39mcolumns, name\u001b[38;5;241m=\u001b[39mindexer)\n\u001b[0;32m   2164\u001b[0m \u001b[38;5;28;01mif\u001b[39;00m \u001b[38;5;129;01mnot\u001b[39;00m \u001b[38;5;28mlen\u001b[39m(\u001b[38;5;28mself\u001b[39m\u001b[38;5;241m.\u001b[39mobj):\n\u001b[0;32m   2165\u001b[0m     \u001b[38;5;66;03m# We will ignore the existing dtypes instead of using\u001b[39;00m\n\u001b[0;32m   2166\u001b[0m     \u001b[38;5;66;03m#  internals.concat logic\u001b[39;00m\n",
      "\u001b[1;31mValueError\u001b[0m: cannot set a row with mismatched columns"
     ]
    }
   ],
   "source": [
    "#column_data = table.find_all('tr')\n",
    "for row in column_data[1:]:\n",
    "    row_data = row.find_all('td')\n",
    "  #  \n",
    "   # # cleaning the data\n",
    "    clean_row = [data.text.strip() for data in row_data]\n",
    "    \n",
    "    length = len(worldie)\n",
    "    worldie.loc[length] = clean_row"
   ]
  },
  {
   "cell_type": "code",
   "execution_count": 13,
   "id": "8ebb40c9-e497-42e3-9fc9-d8de1cc4b0ac",
   "metadata": {},
   "outputs": [
    {
     "ename": "ValueError",
     "evalue": "cannot set a row with mismatched columns",
     "output_type": "error",
     "traceback": [
      "\u001b[1;31m---------------------------------------------------------------------------\u001b[0m",
      "\u001b[1;31mValueError\u001b[0m                                Traceback (most recent call last)",
      "Cell \u001b[1;32mIn[13], line 11\u001b[0m\n\u001b[0;32m      9\u001b[0m \u001b[38;5;28;01melse\u001b[39;00m:\n\u001b[0;32m     10\u001b[0m     length \u001b[38;5;241m=\u001b[39m \u001b[38;5;28mlen\u001b[39m(worldie)\n\u001b[1;32m---> 11\u001b[0m     worldie\u001b[38;5;241m.\u001b[39mloc[length] \u001b[38;5;241m=\u001b[39m clean_row\n",
      "File \u001b[1;32m~\\anaconda3\\lib\\site-packages\\pandas\\core\\indexing.py:818\u001b[0m, in \u001b[0;36m_LocationIndexer.__setitem__\u001b[1;34m(self, key, value)\u001b[0m\n\u001b[0;32m    815\u001b[0m \u001b[38;5;28mself\u001b[39m\u001b[38;5;241m.\u001b[39m_has_valid_setitem_indexer(key)\n\u001b[0;32m    817\u001b[0m iloc \u001b[38;5;241m=\u001b[39m \u001b[38;5;28mself\u001b[39m \u001b[38;5;28;01mif\u001b[39;00m \u001b[38;5;28mself\u001b[39m\u001b[38;5;241m.\u001b[39mname \u001b[38;5;241m==\u001b[39m \u001b[38;5;124m\"\u001b[39m\u001b[38;5;124miloc\u001b[39m\u001b[38;5;124m\"\u001b[39m \u001b[38;5;28;01melse\u001b[39;00m \u001b[38;5;28mself\u001b[39m\u001b[38;5;241m.\u001b[39mobj\u001b[38;5;241m.\u001b[39miloc\n\u001b[1;32m--> 818\u001b[0m \u001b[43miloc\u001b[49m\u001b[38;5;241;43m.\u001b[39;49m\u001b[43m_setitem_with_indexer\u001b[49m\u001b[43m(\u001b[49m\u001b[43mindexer\u001b[49m\u001b[43m,\u001b[49m\u001b[43m \u001b[49m\u001b[43mvalue\u001b[49m\u001b[43m,\u001b[49m\u001b[43m \u001b[49m\u001b[38;5;28;43mself\u001b[39;49m\u001b[38;5;241;43m.\u001b[39;49m\u001b[43mname\u001b[49m\u001b[43m)\u001b[49m\n",
      "File \u001b[1;32m~\\anaconda3\\lib\\site-packages\\pandas\\core\\indexing.py:1785\u001b[0m, in \u001b[0;36m_iLocIndexer._setitem_with_indexer\u001b[1;34m(self, indexer, value, name)\u001b[0m\n\u001b[0;32m   1782\u001b[0m     indexer, missing \u001b[38;5;241m=\u001b[39m convert_missing_indexer(indexer)\n\u001b[0;32m   1784\u001b[0m     \u001b[38;5;28;01mif\u001b[39;00m missing:\n\u001b[1;32m-> 1785\u001b[0m         \u001b[38;5;28;43mself\u001b[39;49m\u001b[38;5;241;43m.\u001b[39;49m\u001b[43m_setitem_with_indexer_missing\u001b[49m\u001b[43m(\u001b[49m\u001b[43mindexer\u001b[49m\u001b[43m,\u001b[49m\u001b[43m \u001b[49m\u001b[43mvalue\u001b[49m\u001b[43m)\u001b[49m\n\u001b[0;32m   1786\u001b[0m         \u001b[38;5;28;01mreturn\u001b[39;00m\n\u001b[0;32m   1788\u001b[0m \u001b[38;5;28;01mif\u001b[39;00m name \u001b[38;5;241m==\u001b[39m \u001b[38;5;124m\"\u001b[39m\u001b[38;5;124mloc\u001b[39m\u001b[38;5;124m\"\u001b[39m:\n\u001b[0;32m   1789\u001b[0m     \u001b[38;5;66;03m# must come after setting of missing\u001b[39;00m\n",
      "File \u001b[1;32m~\\anaconda3\\lib\\site-packages\\pandas\\core\\indexing.py:2160\u001b[0m, in \u001b[0;36m_iLocIndexer._setitem_with_indexer_missing\u001b[1;34m(self, indexer, value)\u001b[0m\n\u001b[0;32m   2157\u001b[0m     \u001b[38;5;28;01mif\u001b[39;00m is_list_like_indexer(value):\n\u001b[0;32m   2158\u001b[0m         \u001b[38;5;66;03m# must have conforming columns\u001b[39;00m\n\u001b[0;32m   2159\u001b[0m         \u001b[38;5;28;01mif\u001b[39;00m \u001b[38;5;28mlen\u001b[39m(value) \u001b[38;5;241m!=\u001b[39m \u001b[38;5;28mlen\u001b[39m(\u001b[38;5;28mself\u001b[39m\u001b[38;5;241m.\u001b[39mobj\u001b[38;5;241m.\u001b[39mcolumns):\n\u001b[1;32m-> 2160\u001b[0m             \u001b[38;5;28;01mraise\u001b[39;00m \u001b[38;5;167;01mValueError\u001b[39;00m(\u001b[38;5;124m\"\u001b[39m\u001b[38;5;124mcannot set a row with mismatched columns\u001b[39m\u001b[38;5;124m\"\u001b[39m)\n\u001b[0;32m   2162\u001b[0m     value \u001b[38;5;241m=\u001b[39m Series(value, index\u001b[38;5;241m=\u001b[39m\u001b[38;5;28mself\u001b[39m\u001b[38;5;241m.\u001b[39mobj\u001b[38;5;241m.\u001b[39mcolumns, name\u001b[38;5;241m=\u001b[39mindexer)\n\u001b[0;32m   2164\u001b[0m \u001b[38;5;28;01mif\u001b[39;00m \u001b[38;5;129;01mnot\u001b[39;00m \u001b[38;5;28mlen\u001b[39m(\u001b[38;5;28mself\u001b[39m\u001b[38;5;241m.\u001b[39mobj):\n\u001b[0;32m   2165\u001b[0m     \u001b[38;5;66;03m# We will ignore the existing dtypes instead of using\u001b[39;00m\n\u001b[0;32m   2166\u001b[0m     \u001b[38;5;66;03m#  internals.concat logic\u001b[39;00m\n",
      "\u001b[1;31mValueError\u001b[0m: cannot set a row with mismatched columns"
     ]
    }
   ],
   "source": [
    "column_data = table.find_all('tr')\n",
    "for row in column_data[1:]:\n",
    "    row_data = row.find_all('td')\n",
    "    \n",
    "    # cleaning the data\n",
    "    clean_row = [data.text.strip() for data in row_data]\n",
    "    if len(clean_row) == False:\n",
    "        del[clean_row]\n",
    "    else:\n",
    "        length = len(worldie)\n",
    "        worldie.loc[length] = clean_row"
   ]
  },
  {
   "cell_type": "code",
   "execution_count": null,
   "id": "3088b249-9d08-4d8e-853f-b113d4b8550f",
   "metadata": {},
   "outputs": [
    {
     "data": {
      "text/html": [
       "<div>\n",
       "<style scoped>\n",
       "    .dataframe tbody tr th:only-of-type {\n",
       "        vertical-align: middle;\n",
       "    }\n",
       "\n",
       "    .dataframe tbody tr th {\n",
       "        vertical-align: top;\n",
       "    }\n",
       "\n",
       "    .dataframe thead th {\n",
       "        text-align: right;\n",
       "    }\n",
       "</style>\n",
       "<table border=\"1\" class=\"dataframe\">\n",
       "  <thead>\n",
       "    <tr style=\"text-align: right;\">\n",
       "      <th></th>\n",
       "      <th>Name</th>\n",
       "      <th>Comments</th>\n",
       "      <th>Romina</th>\n",
       "      <th>97</th>\n",
       "      <th>Laurie</th>\n",
       "      <th>97</th>\n",
       "    </tr>\n",
       "  </thead>\n",
       "  <tbody>\n",
       "  </tbody>\n",
       "</table>\n",
       "</div>"
      ],
      "text/plain": [
       "Empty DataFrame\n",
       "Columns: [Name, Comments, Romina, 97, Laurie, 97]\n",
       "Index: []"
      ]
     },
     "execution_count": 14,
     "metadata": {},
     "output_type": "execute_result"
    }
   ],
   "source": [
    "worldie.tail(10)"
   ]
  },
  {
   "cell_type": "code",
   "execution_count": null,
   "id": "cb505e64-4276-4f59-a41b-2f3a376153af",
   "metadata": {},
   "outputs": [],
   "source": [
    "worldie.to_csv(r\"C:\\Users\\Aiyedun Rasheed B\\Documents\\Python Data Science\\2023boxofficedataLatest International Weekends.csv\", index=False)"
   ]
  },
  {
   "cell_type": "code",
   "execution_count": null,
   "id": "3cadaa2b-97c2-47f9-adf8-c0bd7548f67b",
   "metadata": {},
   "outputs": [],
   "source": []
  }
 ],
 "metadata": {
  "kernelspec": {
   "display_name": "Python 3 (ipykernel)",
   "language": "python",
   "name": "python3"
  },
  "language_info": {
   "codemirror_mode": {
    "name": "ipython",
    "version": 3
   },
   "file_extension": ".py",
   "mimetype": "text/x-python",
   "name": "python",
   "nbconvert_exporter": "python",
   "pygments_lexer": "ipython3",
   "version": "3.10.9"
  }
 },
 "nbformat": 4,
 "nbformat_minor": 5
}
