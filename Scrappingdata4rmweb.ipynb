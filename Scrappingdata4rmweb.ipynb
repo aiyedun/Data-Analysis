{
 "cells": [
  {
   "cell_type": "code",
   "execution_count": 30,
   "id": "ffea6903-b6a9-4912-9541-3c8b0ce1bb88",
   "metadata": {},
   "outputs": [],
   "source": [
    "import re\n",
    "import urllib.request, urllib.parse, urllib.error\n",
    "from bs4 import BeautifulSoup\n",
    "import ssl"
   ]
  },
  {
   "cell_type": "code",
   "execution_count": 31,
   "id": "9d032fc5-39f8-494d-b429-ebba1ace6e90",
   "metadata": {},
   "outputs": [],
   "source": [
    "# Ignore SSL certificate errors\n",
    "ctx = ssl.create_default_context()\n",
    "ctx.check_hostname = False\n",
    "ctx.verify_mode = ssl.CERT_NONE\n"
   ]
  },
  {
   "cell_type": "code",
   "execution_count": 32,
   "id": "aa2f147e-f146-430c-8b0a-7088ddcfd5f6",
   "metadata": {},
   "outputs": [
    {
     "name": "stdin",
     "output_type": "stream",
     "text": [
      "Enter -  http://py4e-data.dr-chuck.net/comments_1629044.html\n"
     ]
    }
   ],
   "source": [
    "url = input('Enter - ')\n",
    "html = urllib.request.urlopen(url, context=ctx).read()\n",
    "soup = BeautifulSoup(html, \"html.parser\")"
   ]
  },
  {
   "cell_type": "code",
   "execution_count": 33,
   "id": "c292fe40-ad63-4476-ae48-594c8820b3f5",
   "metadata": {},
   "outputs": [
    {
     "name": "stdout",
     "output_type": "stream",
     "text": [
      "2430\n"
     ]
    }
   ],
   "source": [
    "tags = soup('span')\n",
    "sums = 0\n",
    "for tag in tags:\n",
    "    y=str(tag)\n",
    "    x= re.findall(\"[0-9]+\",y)\n",
    "    for i in x:\n",
    "        i=int(i)\n",
    "        sums = sums + i\n",
    "print(sums)"
   ]
  },
  {
   "cell_type": "code",
   "execution_count": 28,
   "id": "96ddba0b-69ee-4e80-a20b-83b04a5bb0fd",
   "metadata": {},
   "outputs": [
    {
     "name": "stdout",
     "output_type": "stream",
     "text": [
      "2\n"
     ]
    }
   ],
   "source": []
  },
  {
   "cell_type": "code",
   "execution_count": null,
   "id": "2dc9e687-cab3-4f38-aa97-2462a7466154",
   "metadata": {},
   "outputs": [],
   "source": []
  }
 ],
 "metadata": {
  "kernelspec": {
   "display_name": "Python 3 (ipykernel)",
   "language": "python",
   "name": "python3"
  },
  "language_info": {
   "codemirror_mode": {
    "name": "ipython",
    "version": 3
   },
   "file_extension": ".py",
   "mimetype": "text/x-python",
   "name": "python",
   "nbconvert_exporter": "python",
   "pygments_lexer": "ipython3",
   "version": "3.10.9"
  }
 },
 "nbformat": 4,
 "nbformat_minor": 5
}
